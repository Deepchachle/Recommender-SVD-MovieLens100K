{
  "nbformat": 4,
  "nbformat_minor": 0,
  "metadata": {
    "colab": {
      "provenance": []
    },
    "kernelspec": {
      "name": "python3",
      "display_name": "Python 3"
    },
    "language_info": {
      "name": "python"
    }
  },
  "cells": [
    {
      "cell_type": "code",
      "execution_count": 7,
      "metadata": {
        "colab": {
          "base_uri": "https://localhost:8080/"
        },
        "id": "4aA8aAEeCIyC",
        "outputId": "1845fb67-a133-4cf5-f0a3-153486bac182"
      },
      "outputs": [
        {
          "output_type": "stream",
          "name": "stdout",
          "text": [
            "✅ Basic libraries ready\n"
          ]
        }
      ],
      "source": [
        "# STEP 0: Install dependencies\n",
        "!pip install --quiet numpy pandas matplotlib seaborn\n",
        "\n",
        "import zipfile\n",
        "import pandas as pd\n",
        "import numpy as np\n",
        "import matplotlib.pyplot as plt\n",
        "import seaborn as sns\n",
        "\n",
        "print(\"✅ Basic libraries ready\")\n"
      ]
    },
    {
      "cell_type": "code",
      "source": [
        "# STEP 1: Upload and extract your data.zip\n",
        "from google.colab import files\n",
        "\n",
        "print(\"📂 Please upload your data.zip (must contain ml-100k/u.data and u.item)...\")\n",
        "uploaded = files.upload()\n",
        "\n",
        "# Extract zip\n",
        "for fn in uploaded.keys():\n",
        "    if fn.endswith('.zip'):\n",
        "        with zipfile.ZipFile(fn, 'r') as zip_ref:\n",
        "            zip_ref.extractall('data')\n",
        "print(\"✅ Extraction complete\")\n"
      ],
      "metadata": {
        "colab": {
          "base_uri": "https://localhost:8080/",
          "height": 108
        },
        "id": "_rYR6APXFn-H",
        "outputId": "64bb23be-f6e6-4292-98c2-5dd0f4bbabd8"
      },
      "execution_count": 8,
      "outputs": [
        {
          "output_type": "stream",
          "name": "stdout",
          "text": [
            "📂 Please upload your data.zip (must contain ml-100k/u.data and u.item)...\n"
          ]
        },
        {
          "output_type": "display_data",
          "data": {
            "text/plain": [
              "<IPython.core.display.HTML object>"
            ],
            "text/html": [
              "\n",
              "     <input type=\"file\" id=\"files-3726581b-259d-497b-a3ed-9916d90c4d1b\" name=\"files[]\" multiple disabled\n",
              "        style=\"border:none\" />\n",
              "     <output id=\"result-3726581b-259d-497b-a3ed-9916d90c4d1b\">\n",
              "      Upload widget is only available when the cell has been executed in the\n",
              "      current browser session. Please rerun this cell to enable.\n",
              "      </output>\n",
              "      <script>// Copyright 2017 Google LLC\n",
              "//\n",
              "// Licensed under the Apache License, Version 2.0 (the \"License\");\n",
              "// you may not use this file except in compliance with the License.\n",
              "// You may obtain a copy of the License at\n",
              "//\n",
              "//      http://www.apache.org/licenses/LICENSE-2.0\n",
              "//\n",
              "// Unless required by applicable law or agreed to in writing, software\n",
              "// distributed under the License is distributed on an \"AS IS\" BASIS,\n",
              "// WITHOUT WARRANTIES OR CONDITIONS OF ANY KIND, either express or implied.\n",
              "// See the License for the specific language governing permissions and\n",
              "// limitations under the License.\n",
              "\n",
              "/**\n",
              " * @fileoverview Helpers for google.colab Python module.\n",
              " */\n",
              "(function(scope) {\n",
              "function span(text, styleAttributes = {}) {\n",
              "  const element = document.createElement('span');\n",
              "  element.textContent = text;\n",
              "  for (const key of Object.keys(styleAttributes)) {\n",
              "    element.style[key] = styleAttributes[key];\n",
              "  }\n",
              "  return element;\n",
              "}\n",
              "\n",
              "// Max number of bytes which will be uploaded at a time.\n",
              "const MAX_PAYLOAD_SIZE = 100 * 1024;\n",
              "\n",
              "function _uploadFiles(inputId, outputId) {\n",
              "  const steps = uploadFilesStep(inputId, outputId);\n",
              "  const outputElement = document.getElementById(outputId);\n",
              "  // Cache steps on the outputElement to make it available for the next call\n",
              "  // to uploadFilesContinue from Python.\n",
              "  outputElement.steps = steps;\n",
              "\n",
              "  return _uploadFilesContinue(outputId);\n",
              "}\n",
              "\n",
              "// This is roughly an async generator (not supported in the browser yet),\n",
              "// where there are multiple asynchronous steps and the Python side is going\n",
              "// to poll for completion of each step.\n",
              "// This uses a Promise to block the python side on completion of each step,\n",
              "// then passes the result of the previous step as the input to the next step.\n",
              "function _uploadFilesContinue(outputId) {\n",
              "  const outputElement = document.getElementById(outputId);\n",
              "  const steps = outputElement.steps;\n",
              "\n",
              "  const next = steps.next(outputElement.lastPromiseValue);\n",
              "  return Promise.resolve(next.value.promise).then((value) => {\n",
              "    // Cache the last promise value to make it available to the next\n",
              "    // step of the generator.\n",
              "    outputElement.lastPromiseValue = value;\n",
              "    return next.value.response;\n",
              "  });\n",
              "}\n",
              "\n",
              "/**\n",
              " * Generator function which is called between each async step of the upload\n",
              " * process.\n",
              " * @param {string} inputId Element ID of the input file picker element.\n",
              " * @param {string} outputId Element ID of the output display.\n",
              " * @return {!Iterable<!Object>} Iterable of next steps.\n",
              " */\n",
              "function* uploadFilesStep(inputId, outputId) {\n",
              "  const inputElement = document.getElementById(inputId);\n",
              "  inputElement.disabled = false;\n",
              "\n",
              "  const outputElement = document.getElementById(outputId);\n",
              "  outputElement.innerHTML = '';\n",
              "\n",
              "  const pickedPromise = new Promise((resolve) => {\n",
              "    inputElement.addEventListener('change', (e) => {\n",
              "      resolve(e.target.files);\n",
              "    });\n",
              "  });\n",
              "\n",
              "  const cancel = document.createElement('button');\n",
              "  inputElement.parentElement.appendChild(cancel);\n",
              "  cancel.textContent = 'Cancel upload';\n",
              "  const cancelPromise = new Promise((resolve) => {\n",
              "    cancel.onclick = () => {\n",
              "      resolve(null);\n",
              "    };\n",
              "  });\n",
              "\n",
              "  // Wait for the user to pick the files.\n",
              "  const files = yield {\n",
              "    promise: Promise.race([pickedPromise, cancelPromise]),\n",
              "    response: {\n",
              "      action: 'starting',\n",
              "    }\n",
              "  };\n",
              "\n",
              "  cancel.remove();\n",
              "\n",
              "  // Disable the input element since further picks are not allowed.\n",
              "  inputElement.disabled = true;\n",
              "\n",
              "  if (!files) {\n",
              "    return {\n",
              "      response: {\n",
              "        action: 'complete',\n",
              "      }\n",
              "    };\n",
              "  }\n",
              "\n",
              "  for (const file of files) {\n",
              "    const li = document.createElement('li');\n",
              "    li.append(span(file.name, {fontWeight: 'bold'}));\n",
              "    li.append(span(\n",
              "        `(${file.type || 'n/a'}) - ${file.size} bytes, ` +\n",
              "        `last modified: ${\n",
              "            file.lastModifiedDate ? file.lastModifiedDate.toLocaleDateString() :\n",
              "                                    'n/a'} - `));\n",
              "    const percent = span('0% done');\n",
              "    li.appendChild(percent);\n",
              "\n",
              "    outputElement.appendChild(li);\n",
              "\n",
              "    const fileDataPromise = new Promise((resolve) => {\n",
              "      const reader = new FileReader();\n",
              "      reader.onload = (e) => {\n",
              "        resolve(e.target.result);\n",
              "      };\n",
              "      reader.readAsArrayBuffer(file);\n",
              "    });\n",
              "    // Wait for the data to be ready.\n",
              "    let fileData = yield {\n",
              "      promise: fileDataPromise,\n",
              "      response: {\n",
              "        action: 'continue',\n",
              "      }\n",
              "    };\n",
              "\n",
              "    // Use a chunked sending to avoid message size limits. See b/62115660.\n",
              "    let position = 0;\n",
              "    do {\n",
              "      const length = Math.min(fileData.byteLength - position, MAX_PAYLOAD_SIZE);\n",
              "      const chunk = new Uint8Array(fileData, position, length);\n",
              "      position += length;\n",
              "\n",
              "      const base64 = btoa(String.fromCharCode.apply(null, chunk));\n",
              "      yield {\n",
              "        response: {\n",
              "          action: 'append',\n",
              "          file: file.name,\n",
              "          data: base64,\n",
              "        },\n",
              "      };\n",
              "\n",
              "      let percentDone = fileData.byteLength === 0 ?\n",
              "          100 :\n",
              "          Math.round((position / fileData.byteLength) * 100);\n",
              "      percent.textContent = `${percentDone}% done`;\n",
              "\n",
              "    } while (position < fileData.byteLength);\n",
              "  }\n",
              "\n",
              "  // All done.\n",
              "  yield {\n",
              "    response: {\n",
              "      action: 'complete',\n",
              "    }\n",
              "  };\n",
              "}\n",
              "\n",
              "scope.google = scope.google || {};\n",
              "scope.google.colab = scope.google.colab || {};\n",
              "scope.google.colab._files = {\n",
              "  _uploadFiles,\n",
              "  _uploadFilesContinue,\n",
              "};\n",
              "})(self);\n",
              "</script> "
            ]
          },
          "metadata": {}
        },
        {
          "output_type": "stream",
          "name": "stdout",
          "text": [
            "Saving ml-100k.zip to ml-100k.zip\n",
            "✅ Extraction complete\n"
          ]
        }
      ]
    },
    {
      "cell_type": "code",
      "source": [
        "# STEP 2: Load ratings and movie info\n",
        "ratings = pd.read_csv('data/ml-100k/u.data', sep='\\t', names=['user_id','item_id','rating','ts'])\n",
        "movies = pd.read_csv('data/ml-100k/u.item', sep='|', header=None, encoding='latin-1')[ [0,1] ]\n",
        "movies.columns = ['item_id','title']\n",
        "\n",
        "print(\"Ratings snapshot:\")\n",
        "print(ratings.head())\n",
        "print(\"\\nMovies snapshot:\")\n",
        "print(movies.head())\n"
      ],
      "metadata": {
        "colab": {
          "base_uri": "https://localhost:8080/"
        },
        "id": "lmb8QLpxF0fh",
        "outputId": "bcd2eca8-0556-434a-f8c1-eec4646d9c65"
      },
      "execution_count": 9,
      "outputs": [
        {
          "output_type": "stream",
          "name": "stdout",
          "text": [
            "Ratings snapshot:\n",
            "   user_id  item_id  rating         ts\n",
            "0      196      242       3  881250949\n",
            "1      186      302       3  891717742\n",
            "2       22      377       1  878887116\n",
            "3      244       51       2  880606923\n",
            "4      166      346       1  886397596\n",
            "\n",
            "Movies snapshot:\n",
            "   item_id              title\n",
            "0        1   Toy Story (1995)\n",
            "1        2   GoldenEye (1995)\n",
            "2        3  Four Rooms (1995)\n",
            "3        4  Get Shorty (1995)\n",
            "4        5     Copycat (1995)\n"
          ]
        }
      ]
    },
    {
      "cell_type": "code",
      "source": [
        "# STEP 3: Pivot to create user-item rating matrix (fill missing with zeros)\n",
        "R = ratings.pivot(index='user_id', columns='item_id', values='rating').fillna(0)\n",
        "R_matrix = R.values\n",
        "user_ids = R.index.tolist()\n",
        "item_ids = R.columns.tolist()\n",
        "\n",
        "print(\"Rating matrix shape:\", R_matrix.shape)\n"
      ],
      "metadata": {
        "colab": {
          "base_uri": "https://localhost:8080/"
        },
        "id": "N7b_YmbJF3GC",
        "outputId": "26253c8c-70bf-45de-ed4a-c5b1f9514ce8"
      },
      "execution_count": 10,
      "outputs": [
        {
          "output_type": "stream",
          "name": "stdout",
          "text": [
            "Rating matrix shape: (943, 1682)\n"
          ]
        }
      ]
    },
    {
      "cell_type": "code",
      "source": [
        "# STEP 4: Define SVD function using NumPy (similar to Ayoub's style)\n",
        "def compute_svd(R, k):\n",
        "    # De-mean rows for centering\n",
        "    user_means = np.mean(R, axis=1, keepdims=True)\n",
        "    R_demeaned = R - user_means\n",
        "    # Compute SVD decomposition\n",
        "    U, S, Vt = np.linalg.svd(R_demeaned, full_matrices=False)\n",
        "    # Truncate\n",
        "    Uk = U[:, :k]\n",
        "    Sk = S[:k]\n",
        "    Vtk = Vt[:k, :]\n",
        "    # Reconstruct ratings\n",
        "    R_hat = Uk @ np.diag(Sk) @ Vtk + user_means\n",
        "    return R_hat\n",
        "\n",
        "# Quick test for small k\n",
        "R_hat_test = compute_svd(R_matrix, k=20)\n",
        "print(\"Reconstruction test shape:\", R_hat_test.shape)\n"
      ],
      "metadata": {
        "colab": {
          "base_uri": "https://localhost:8080/"
        },
        "id": "3Rp54kl4F48r",
        "outputId": "cf36abac-4844-41d1-bb62-612a80b2f042"
      },
      "execution_count": 11,
      "outputs": [
        {
          "output_type": "stream",
          "name": "stdout",
          "text": [
            "Reconstruction test shape: (943, 1682)\n"
          ]
        }
      ]
    },
    {
      "cell_type": "code",
      "source": [
        "# STEP 5: Evaluation (RMSE & MAE) on observed entries\n",
        "def compute_metrics(R_true, R_pred, mask):\n",
        "    diff = (R_pred - R_true)[mask]\n",
        "    rmse_val = np.sqrt(np.mean(diff**2))\n",
        "    mae_val = np.mean(np.abs(diff))\n",
        "    return rmse_val, mae_val\n",
        "\n",
        "mask = R_matrix > 0\n",
        "rmse_20, mae_20 = compute_metrics(R_matrix, R_hat_test, mask)\n",
        "print(f\"Centered SVD (k=20) — RMSE: {rmse_20:.4f}, MAE: {mae_20:.4f}\")\n"
      ],
      "metadata": {
        "colab": {
          "base_uri": "https://localhost:8080/"
        },
        "id": "XWB34Sf2F8Z-",
        "outputId": "7ea99bf5-efdd-4af4-b13a-a8b9c7403e2a"
      },
      "execution_count": 12,
      "outputs": [
        {
          "output_type": "stream",
          "name": "stdout",
          "text": [
            "Centered SVD (k=20) — RMSE: 2.1285, MAE: 1.8049\n"
          ]
        }
      ]
    },
    {
      "cell_type": "code",
      "source": [
        "# STEP 6: Dimensionality analysis\n",
        "ks = [10, 20, 50, 100]\n",
        "rmse_scores, mae_scores = [], []\n",
        "\n",
        "for k in ks:\n",
        "    R_hat = compute_svd(R_matrix, k)\n",
        "    rmse_k, mae_k = compute_metrics(R_matrix, R_hat, mask)\n",
        "    rmse_scores.append(rmse_k)\n",
        "    mae_scores.append(mae_k)\n",
        "    print(f\"k={k}: RMSE={rmse_k:.4f}, MAE={mae_k:.4f}\")\n",
        "\n",
        "# Plot results\n",
        "plt.figure(figsize=(8,5))\n",
        "sns.lineplot(x=ks, y=rmse_scores, marker='o', label='RMSE')\n",
        "sns.lineplot(x=ks, y=mae_scores, marker='o', label='MAE')\n",
        "plt.xlabel(\"Latent dimensions (k)\")\n",
        "plt.ylabel(\"Error\")\n",
        "plt.title(\"Error vs Number of Latent Factors (NumPy SVD)\")\n",
        "plt.legend()\n",
        "plt.show()\n"
      ],
      "metadata": {
        "colab": {
          "base_uri": "https://localhost:8080/",
          "height": 556
        },
        "id": "cj7T5HzOGCwR",
        "outputId": "1341ea3a-8422-4260-927a-e17da93b1411"
      },
      "execution_count": 13,
      "outputs": [
        {
          "output_type": "stream",
          "name": "stdout",
          "text": [
            "k=10: RMSE=2.2728, MAE=1.9573\n",
            "k=20: RMSE=2.1285, MAE=1.8049\n",
            "k=50: RMSE=1.8533, MAE=1.5351\n",
            "k=100: RMSE=1.5107, MAE=1.2110\n"
          ]
        },
        {
          "output_type": "display_data",
          "data": {
            "text/plain": [
              "<Figure size 800x500 with 1 Axes>"
            ],
            "image/png": "[encoded data removed]"
          },
          "metadata": {}
        }
      ]
    },
    {
      "cell_type": "code",
      "source": [
        "# STEP 7: Top-N recommendations for a sample user\n",
        "def get_top_n(R_pred, user_id, n=5):\n",
        "    user_idx = user_ids.index(user_id)\n",
        "    user_ratings = R_pred[user_idx]\n",
        "    already_rated = mask[user_idx]\n",
        "    # Filter unrated\n",
        "    unrated_items = np.where(~already_rated)[0]\n",
        "    preds = [(item_ids[i], user_ratings[i]) for i in unrated_items]\n",
        "    preds.sort(key=lambda x: x[1], reverse=True)\n",
        "    return preds[:n]\n",
        "\n",
        "# Choose latent dimension and compute predictions\n",
        "k_opt = 50\n",
        "R_hat_opt = compute_svd(R_matrix, k_opt)\n",
        "\n",
        "for uid in [1, 50, 200]:\n",
        "    top5 = get_top_n(R_hat_opt, uid, n=5)\n",
        "    print(f\"\\nUser {uid} Top-5 Recommendations (k={k_opt}):\")\n",
        "    for iid, score in top5:\n",
        "        title = movies[movies['item_id']==iid]['title'].values[0]\n",
        "        print(f\"{title} — pred rating: {score:.2f}\")\n"
      ],
      "metadata": {
        "colab": {
          "base_uri": "https://localhost:8080/"
        },
        "id": "wPQR3YrYGK0d",
        "outputId": "a0c71e38-d946-4112-e67d-057a56ea10d0"
      },
      "execution_count": 14,
      "outputs": [
        {
          "output_type": "stream",
          "name": "stdout",
          "text": [
            "\n",
            "User 1 Top-5 Recommendations (k=50):\n",
            "E.T. the Extra-Terrestrial (1982) — pred rating: 3.51\n",
            "Batman (1989) — pred rating: 3.10\n",
            "Dave (1993) — pred rating: 2.97\n",
            "One Flew Over the Cuckoo's Nest (1975) — pred rating: 2.75\n",
            "True Lies (1994) — pred rating: 2.61\n",
            "\n",
            "User 50 Top-5 Recommendations (k=50):\n",
            "Bound (1996) — pred rating: 1.32\n",
            "Twelve Monkeys (1995) — pred rating: 1.30\n",
            "Boogie Nights (1997) — pred rating: 1.28\n",
            "Welcome to the Dollhouse (1995) — pred rating: 1.20\n",
            "Game, The (1997) — pred rating: 1.08\n",
            "\n",
            "User 200 Top-5 Recommendations (k=50):\n",
            "Batman (1989) — pred rating: 3.68\n",
            "Clear and Present Danger (1994) — pred rating: 3.23\n",
            "Gone with the Wind (1939) — pred rating: 2.98\n",
            "Ben-Hur (1959) — pred rating: 2.78\n",
            "Postino, Il (1994) — pred rating: 2.71\n"
          ]
        }
      ]
    },
    {
      "cell_type": "code",
      "source": [
        ""
      ],
      "metadata": {
        "id": "XZoPbwcMMWiF"
      },
      "execution_count": null,
      "outputs": []
    }
  ]
}